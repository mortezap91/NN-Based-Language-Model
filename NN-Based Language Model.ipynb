{
  "nbformat": 4,
  "nbformat_minor": 0,
  "metadata": {
    "colab": {
      "provenance": []
    },
    "kernelspec": {
      "name": "python3",
      "display_name": "Python 3"
    },
    "accelerator": "GPU",
    "gpuClass": "standard",
    "widgets": {
      "application/vnd.jupyter.widget-state+json": {
        "408c581487254312b5eb135170b6637a": {
          "model_module": "@jupyter-widgets/controls",
          "model_name": "HBoxModel",
          "model_module_version": "1.5.0",
          "state": {
            "_dom_classes": [],
            "_model_module": "@jupyter-widgets/controls",
            "_model_module_version": "1.5.0",
            "_model_name": "HBoxModel",
            "_view_count": null,
            "_view_module": "@jupyter-widgets/controls",
            "_view_module_version": "1.5.0",
            "_view_name": "HBoxView",
            "box_style": "",
            "children": [
              "IPY_MODEL_4e67df5c826b46f9a68ab4428ca6f8bd",
              "IPY_MODEL_d738c8cb0f60493fa43e4ad15a29a8fe",
              "IPY_MODEL_5b50d833b6824d1ca3ed3ec099de0ebc"
            ],
            "layout": "IPY_MODEL_fd2f04ee45aa49dc9a824a97ca5a4b15"
          }
        },
        "4e67df5c826b46f9a68ab4428ca6f8bd": {
          "model_module": "@jupyter-widgets/controls",
          "model_name": "HTMLModel",
          "model_module_version": "1.5.0",
          "state": {
            "_dom_classes": [],
            "_model_module": "@jupyter-widgets/controls",
            "_model_module_version": "1.5.0",
            "_model_name": "HTMLModel",
            "_view_count": null,
            "_view_module": "@jupyter-widgets/controls",
            "_view_module_version": "1.5.0",
            "_view_name": "HTMLView",
            "description": "",
            "description_tooltip": null,
            "layout": "IPY_MODEL_7315088b8b884a02b450309e66981cbe",
            "placeholder": "​",
            "style": "IPY_MODEL_9101af539bd040e5a5a39f3f3950e6e4",
            "value": "100%"
          }
        },
        "d738c8cb0f60493fa43e4ad15a29a8fe": {
          "model_module": "@jupyter-widgets/controls",
          "model_name": "FloatProgressModel",
          "model_module_version": "1.5.0",
          "state": {
            "_dom_classes": [],
            "_model_module": "@jupyter-widgets/controls",
            "_model_module_version": "1.5.0",
            "_model_name": "FloatProgressModel",
            "_view_count": null,
            "_view_module": "@jupyter-widgets/controls",
            "_view_module_version": "1.5.0",
            "_view_name": "ProgressView",
            "bar_style": "success",
            "description": "",
            "description_tooltip": null,
            "layout": "IPY_MODEL_872e731fbe714053a090833d0a9f50ca",
            "max": 244408911,
            "min": 0,
            "orientation": "horizontal",
            "style": "IPY_MODEL_38c14a32f07a4b0ba113a94696e5c3e7",
            "value": 244408911
          }
        },
        "5b50d833b6824d1ca3ed3ec099de0ebc": {
          "model_module": "@jupyter-widgets/controls",
          "model_name": "HTMLModel",
          "model_module_version": "1.5.0",
          "state": {
            "_dom_classes": [],
            "_model_module": "@jupyter-widgets/controls",
            "_model_module_version": "1.5.0",
            "_model_name": "HTMLModel",
            "_view_count": null,
            "_view_module": "@jupyter-widgets/controls",
            "_view_module_version": "1.5.0",
            "_view_name": "HTMLView",
            "description": "",
            "description_tooltip": null,
            "layout": "IPY_MODEL_42be3859de1848d8969c3819fbf828af",
            "placeholder": "​",
            "style": "IPY_MODEL_0b389118801846c98b23b5e112f29275",
            "value": " 233M/233M [00:01&lt;00:00, 149MB/s]"
          }
        },
        "fd2f04ee45aa49dc9a824a97ca5a4b15": {
          "model_module": "@jupyter-widgets/base",
          "model_name": "LayoutModel",
          "model_module_version": "1.2.0",
          "state": {
            "_model_module": "@jupyter-widgets/base",
            "_model_module_version": "1.2.0",
            "_model_name": "LayoutModel",
            "_view_count": null,
            "_view_module": "@jupyter-widgets/base",
            "_view_module_version": "1.2.0",
            "_view_name": "LayoutView",
            "align_content": null,
            "align_items": null,
            "align_self": null,
            "border": null,
            "bottom": null,
            "display": null,
            "flex": null,
            "flex_flow": null,
            "grid_area": null,
            "grid_auto_columns": null,
            "grid_auto_flow": null,
            "grid_auto_rows": null,
            "grid_column": null,
            "grid_gap": null,
            "grid_row": null,
            "grid_template_areas": null,
            "grid_template_columns": null,
            "grid_template_rows": null,
            "height": null,
            "justify_content": null,
            "justify_items": null,
            "left": null,
            "margin": null,
            "max_height": null,
            "max_width": null,
            "min_height": null,
            "min_width": null,
            "object_fit": null,
            "object_position": null,
            "order": null,
            "overflow": null,
            "overflow_x": null,
            "overflow_y": null,
            "padding": null,
            "right": null,
            "top": null,
            "visibility": null,
            "width": null
          }
        },
        "7315088b8b884a02b450309e66981cbe": {
          "model_module": "@jupyter-widgets/base",
          "model_name": "LayoutModel",
          "model_module_version": "1.2.0",
          "state": {
            "_model_module": "@jupyter-widgets/base",
            "_model_module_version": "1.2.0",
            "_model_name": "LayoutModel",
            "_view_count": null,
            "_view_module": "@jupyter-widgets/base",
            "_view_module_version": "1.2.0",
            "_view_name": "LayoutView",
            "align_content": null,
            "align_items": null,
            "align_self": null,
            "border": null,
            "bottom": null,
            "display": null,
            "flex": null,
            "flex_flow": null,
            "grid_area": null,
            "grid_auto_columns": null,
            "grid_auto_flow": null,
            "grid_auto_rows": null,
            "grid_column": null,
            "grid_gap": null,
            "grid_row": null,
            "grid_template_areas": null,
            "grid_template_columns": null,
            "grid_template_rows": null,
            "height": null,
            "justify_content": null,
            "justify_items": null,
            "left": null,
            "margin": null,
            "max_height": null,
            "max_width": null,
            "min_height": null,
            "min_width": null,
            "object_fit": null,
            "object_position": null,
            "order": null,
            "overflow": null,
            "overflow_x": null,
            "overflow_y": null,
            "padding": null,
            "right": null,
            "top": null,
            "visibility": null,
            "width": null
          }
        },
        "9101af539bd040e5a5a39f3f3950e6e4": {
          "model_module": "@jupyter-widgets/controls",
          "model_name": "DescriptionStyleModel",
          "model_module_version": "1.5.0",
          "state": {
            "_model_module": "@jupyter-widgets/controls",
            "_model_module_version": "1.5.0",
            "_model_name": "DescriptionStyleModel",
            "_view_count": null,
            "_view_module": "@jupyter-widgets/base",
            "_view_module_version": "1.2.0",
            "_view_name": "StyleView",
            "description_width": ""
          }
        },
        "872e731fbe714053a090833d0a9f50ca": {
          "model_module": "@jupyter-widgets/base",
          "model_name": "LayoutModel",
          "model_module_version": "1.2.0",
          "state": {
            "_model_module": "@jupyter-widgets/base",
            "_model_module_version": "1.2.0",
            "_model_name": "LayoutModel",
            "_view_count": null,
            "_view_module": "@jupyter-widgets/base",
            "_view_module_version": "1.2.0",
            "_view_name": "LayoutView",
            "align_content": null,
            "align_items": null,
            "align_self": null,
            "border": null,
            "bottom": null,
            "display": null,
            "flex": null,
            "flex_flow": null,
            "grid_area": null,
            "grid_auto_columns": null,
            "grid_auto_flow": null,
            "grid_auto_rows": null,
            "grid_column": null,
            "grid_gap": null,
            "grid_row": null,
            "grid_template_areas": null,
            "grid_template_columns": null,
            "grid_template_rows": null,
            "height": null,
            "justify_content": null,
            "justify_items": null,
            "left": null,
            "margin": null,
            "max_height": null,
            "max_width": null,
            "min_height": null,
            "min_width": null,
            "object_fit": null,
            "object_position": null,
            "order": null,
            "overflow": null,
            "overflow_x": null,
            "overflow_y": null,
            "padding": null,
            "right": null,
            "top": null,
            "visibility": null,
            "width": null
          }
        },
        "38c14a32f07a4b0ba113a94696e5c3e7": {
          "model_module": "@jupyter-widgets/controls",
          "model_name": "ProgressStyleModel",
          "model_module_version": "1.5.0",
          "state": {
            "_model_module": "@jupyter-widgets/controls",
            "_model_module_version": "1.5.0",
            "_model_name": "ProgressStyleModel",
            "_view_count": null,
            "_view_module": "@jupyter-widgets/base",
            "_view_module_version": "1.2.0",
            "_view_name": "StyleView",
            "bar_color": null,
            "description_width": ""
          }
        },
        "42be3859de1848d8969c3819fbf828af": {
          "model_module": "@jupyter-widgets/base",
          "model_name": "LayoutModel",
          "model_module_version": "1.2.0",
          "state": {
            "_model_module": "@jupyter-widgets/base",
            "_model_module_version": "1.2.0",
            "_model_name": "LayoutModel",
            "_view_count": null,
            "_view_module": "@jupyter-widgets/base",
            "_view_module_version": "1.2.0",
            "_view_name": "LayoutView",
            "align_content": null,
            "align_items": null,
            "align_self": null,
            "border": null,
            "bottom": null,
            "display": null,
            "flex": null,
            "flex_flow": null,
            "grid_area": null,
            "grid_auto_columns": null,
            "grid_auto_flow": null,
            "grid_auto_rows": null,
            "grid_column": null,
            "grid_gap": null,
            "grid_row": null,
            "grid_template_areas": null,
            "grid_template_columns": null,
            "grid_template_rows": null,
            "height": null,
            "justify_content": null,
            "justify_items": null,
            "left": null,
            "margin": null,
            "max_height": null,
            "max_width": null,
            "min_height": null,
            "min_width": null,
            "object_fit": null,
            "object_position": null,
            "order": null,
            "overflow": null,
            "overflow_x": null,
            "overflow_y": null,
            "padding": null,
            "right": null,
            "top": null,
            "visibility": null,
            "width": null
          }
        },
        "0b389118801846c98b23b5e112f29275": {
          "model_module": "@jupyter-widgets/controls",
          "model_name": "DescriptionStyleModel",
          "model_module_version": "1.5.0",
          "state": {
            "_model_module": "@jupyter-widgets/controls",
            "_model_module_version": "1.5.0",
            "_model_name": "DescriptionStyleModel",
            "_view_count": null,
            "_view_module": "@jupyter-widgets/base",
            "_view_module_version": "1.2.0",
            "_view_name": "StyleView",
            "description_width": ""
          }
        }
      }
    }
  },
  "cells": [
    {
      "cell_type": "code",
      "source": [
        "import torch\n",
        "import torch.nn as nn\n",
        "import numpy\n",
        "from torch.utils.data import Dataset\n",
        "from torch.utils.data import DataLoader\n",
        "import torchvision\n",
        "from torchvision import transforms\n",
        "import matplotlib.pyplot as plt\n",
        "import torch.nn.functional as F\n",
        "from torchvision.utils import save_image"
      ],
      "metadata": {
        "id": "2UEH6u2IULtL"
      },
      "execution_count": null,
      "outputs": []
    },
    {
      "cell_type": "code",
      "source": [
        "model = torch.hub.load('pytorch/vision:v0.10.0', 'alexnet', pretrained=True)\n",
        "from google.colab import drive\n",
        "drive.mount('/content/drive')"
      ],
      "metadata": {
        "colab": {
          "base_uri": "https://localhost:8080/",
          "height": 194,
          "referenced_widgets": [
            "408c581487254312b5eb135170b6637a",
            "4e67df5c826b46f9a68ab4428ca6f8bd",
            "d738c8cb0f60493fa43e4ad15a29a8fe",
            "5b50d833b6824d1ca3ed3ec099de0ebc",
            "fd2f04ee45aa49dc9a824a97ca5a4b15",
            "7315088b8b884a02b450309e66981cbe",
            "9101af539bd040e5a5a39f3f3950e6e4",
            "872e731fbe714053a090833d0a9f50ca",
            "38c14a32f07a4b0ba113a94696e5c3e7",
            "42be3859de1848d8969c3819fbf828af",
            "0b389118801846c98b23b5e112f29275"
          ]
        },
        "id": "i0Ni2bO7UNO5",
        "outputId": "bf02c848-af71-48be-cbb3-a765e89b73bf"
      },
      "execution_count": null,
      "outputs": [
        {
          "output_type": "stream",
          "name": "stderr",
          "text": [
            "Downloading: \"https://github.com/pytorch/vision/zipball/v0.10.0\" to /root/.cache/torch/hub/v0.10.0.zip\n",
            "/usr/local/lib/python3.9/dist-packages/torchvision/models/_utils.py:208: UserWarning: The parameter 'pretrained' is deprecated since 0.13 and may be removed in the future, please use 'weights' instead.\n",
            "  warnings.warn(\n",
            "/usr/local/lib/python3.9/dist-packages/torchvision/models/_utils.py:223: UserWarning: Arguments other than a weight enum or `None` for 'weights' are deprecated since 0.13 and may be removed in the future. The current behavior is equivalent to passing `weights=AlexNet_Weights.IMAGENET1K_V1`. You can also use `weights=AlexNet_Weights.DEFAULT` to get the most up-to-date weights.\n",
            "  warnings.warn(msg)\n",
            "Downloading: \"https://download.pytorch.org/models/alexnet-owt-7be5be79.pth\" to /root/.cache/torch/hub/checkpoints/alexnet-owt-7be5be79.pth\n"
          ]
        },
        {
          "output_type": "display_data",
          "data": {
            "text/plain": [
              "  0%|          | 0.00/233M [00:00<?, ?B/s]"
            ],
            "application/vnd.jupyter.widget-view+json": {
              "version_major": 2,
              "version_minor": 0,
              "model_id": "408c581487254312b5eb135170b6637a"
            }
          },
          "metadata": {}
        },
        {
          "output_type": "stream",
          "name": "stdout",
          "text": [
            "Mounted at /content/drive\n"
          ]
        }
      ]
    },
    {
      "cell_type": "code",
      "source": [
        "transform = transforms.Compose([transforms.Resize((224, 224)),transforms.ToTensor()])\n",
        "dataset = torchvision.datasets.ImageFolder('/content/drive/MyDrive/Assignment 2',transform = transform)\n",
        "dataloader_train = DataLoader(dataset,batch_size=1, shuffle=False)\n",
        "\n",
        "with open('/content/drive/MyDrive/class label/imagenet1000_clsidx_to_labels.txt') as f:\n",
        "  classes_train = [line.strip() for line in f.readlines()]\n",
        "def label_alexnet(model,dataloader,labels):\n",
        "  class_label=[]\n",
        "  model.eval()\n",
        "  for (data,_) in (dataloader):\n",
        "    with torch.no_grad():\n",
        "      out = model(data)\n",
        "      _, predicted = torch.max(out, 1)\n",
        "      class_label.append(labels[predicted[0]])\n",
        "  return class_label\n",
        "label_alexnet(model,dataloader_train,classes_train)"
      ],
      "metadata": {
        "colab": {
          "base_uri": "https://localhost:8080/"
        },
        "id": "26RYkzPGUNlB",
        "outputId": "2fa6c346-3992-42af-f674-bc51017e58d2"
      },
      "execution_count": null,
      "outputs": [
        {
          "output_type": "execute_result",
          "data": {
            "text/plain": [
              "[\"457: 'bow tie, bow-tie, bowtie',\",\n",
              " \"601: 'hoopskirt, crinoline',\",\n",
              " \"107: 'jellyfish',\",\n",
              " \"29: 'axolotl, mud puppy, Ambystoma mexicanum',\",\n",
              " \"6: 'stingray',\",\n",
              " \"318: 'lacewing, lacewing fly',\",\n",
              " \"619: 'lampshade, lamp shade',\",\n",
              " \"601: 'hoopskirt, crinoline',\",\n",
              " \"311: 'grasshopper, hopper',\",\n",
              " \"904: 'window screen',\"]"
            ]
          },
          "metadata": {},
          "execution_count": 3
        }
      ]
    },
    {
      "cell_type": "markdown",
      "source": [
        "### Question 1 part(c)"
      ],
      "metadata": {
        "id": "bm8sKKmFVzjX"
      }
    },
    {
      "cell_type": "code",
      "source": [
        "image1 = dataset[8][0]\n",
        "image2 = dataset[2][0]\n",
        "plt.subplot(121)\n",
        "plt.imshow(image1.permute(1,2,0))\n",
        "plt.subplot(122)\n",
        "plt.imshow(image2.permute(1,2,0))\n",
        "plt.show()\n",
        "out1 = model(image1.unsqueeze(0))\n",
        "_, predicted = torch.max(out1, 1)\n",
        "print('original label number first image',classes_train[predicted])\n",
        "out2 = model(image2.unsqueeze(0))\n",
        "_, predicted = torch.max(out2, 1)\n",
        "print('original label number second image',classes_train[predicted])"
      ],
      "metadata": {
        "colab": {
          "base_uri": "https://localhost:8080/",
          "height": 240
        },
        "id": "IxcSnGlrUNxl",
        "outputId": "3325f09c-aeb2-49af-af2b-ee8dc34980bc"
      },
      "execution_count": null,
      "outputs": [
        {
          "output_type": "display_data",
          "data": {
            "text/plain": [
              "<Figure size 432x288 with 2 Axes>"
            ],
            "image/png": "[encoded data removed]"
          },
          "metadata": {
            "needs_background": "light"
          }
        },
        {
          "output_type": "stream",
          "name": "stdout",
          "text": [
            "original label number first image 311: 'grasshopper, hopper',\n",
            "original label number second image 107: 'jellyfish',\n"
          ]
        }
      ]
    },
    {
      "cell_type": "code",
      "source": [
        "def generate_adversarial_image(model, image, target_class, alpha=0.1, num_iterations=1000):\n",
        "\n",
        "    # Create a random noise image to start the optimization\n",
        "    r = torch.ones_like(image, requires_grad=True)\n",
        "    r = r/10\n",
        "    r = torch.tensor(r,requires_grad=True)\n",
        "    # Define the optimizer\n",
        "    optimizer = torch.optim.Adam([r], lr=0.01)\n",
        "\n",
        "    y_target = torch.tensor(target_class)\n",
        "    for i in range(num_iterations):\n",
        "\n",
        "        optimizer.zero_grad()\n",
        "        # Compute the perturbed image\n",
        "\n",
        "        x_perturbed = image + r\n",
        "\n",
        "        # Get the model predictions for the perturbed image\n",
        "        y_pred = model(x_perturbed.unsqueeze(0))\n",
        "        _, predicted = torch.max(y_pred, 1)\n",
        "        # Compute the cross-entropy loss between the predicted and target labels\n",
        "        loss = F.cross_entropy(y_pred.squeeze(), y_target)\n",
        "\n",
        "        # Add L1 regularization to encourage sparsity in the perturbations\n",
        "        loss += alpha * r.abs().sum()\n",
        "\n",
        "        loss.backward()\n",
        "\n",
        "        # Update the perturbations using the Adam optimizer\n",
        "        optimizer.step()\n",
        "\n",
        "        # Check if the sample has switched to a new class\n",
        "        if y_pred.argmax() in y_target:\n",
        "            break\n",
        "    # Return the adversarial image\n",
        "\n",
        "    return x_perturbed"
      ],
      "metadata": {
        "id": "V8s7cA_8V79E"
      },
      "execution_count": null,
      "outputs": []
    },
    {
      "cell_type": "code",
      "source": [
        "target_classes1 = [288, 319, 835]  # Random classes: 'leopard', 'dragonfly', 'sunidal'\n",
        "target_classes2 = [692, 919, 968]  # Random classes: 'packet', 'bookshop', 'cup'\n",
        "# Generate adversarial examples for image 1\n",
        "adversarial_images1 = []\n",
        "adversarial_images2 = []\n",
        "i=0\n",
        "for y_target in target_classes1:\n",
        "  adversarial_image = generate_adversarial_image(model, image1.clone(), y_target, alpha=.05, num_iterations=500)\n",
        "  save_image(adversarial_image, 'img'+str(i)+'.png')\n",
        "  i+=1\n",
        "  adversarial_images1.append(adversarial_image)\n",
        "\n",
        "for y_target in target_classes2:\n",
        "  i+=1\n",
        "  adversarial_image = generate_adversarial_image(model, image1.clone(), y_target, alpha=.05, num_iterations=500)\n",
        "  save_image(adversarial_image, 'img'+str(i)+'.png')\n",
        "  adversarial_images2.append(adversarial_image)"
      ],
      "metadata": {
        "colab": {
          "base_uri": "https://localhost:8080/"
        },
        "id": "f7CEVWTtV8QN",
        "outputId": "7de3e173-d769-46d1-b1e1-7d650c2ce686"
      },
      "execution_count": null,
      "outputs": [
        {
          "output_type": "stream",
          "name": "stderr",
          "text": [
            "<ipython-input-7-1865417b1ab1>:6: UserWarning: To copy construct from a tensor, it is recommended to use sourceTensor.clone().detach() or sourceTensor.clone().detach().requires_grad_(True), rather than torch.tensor(sourceTensor).\n",
            "  r = torch.tensor(r,requires_grad=True)\n"
          ]
        }
      ]
    },
    {
      "cell_type": "code",
      "source": [
        "for i in range(len(adversarial_images1)):\n",
        "  adv = adversarial_images1[i]\n",
        "  y_pred = model(adv.unsqueeze(0))\n",
        "  _, predicted = torch.max(y_pred, 1)\n",
        "  print(classes_train[predicted])"
      ],
      "metadata": {
        "colab": {
          "base_uri": "https://localhost:8080/"
        },
        "id": "il2K5NqMV8bF",
        "outputId": "addc4c8c-7ca9-4a7f-b11f-32a7771e25fb"
      },
      "execution_count": null,
      "outputs": [
        {
          "output_type": "stream",
          "name": "stdout",
          "text": [
            "288: 'leopard, Panthera pardus',\n",
            "319: \"dragonfly, darning needle, devil's darning needle, sewing needle, snake feeder, snake doctor, mosquito hawk, skeeter hawk\",\n",
            "835: 'sundial',\n"
          ]
        }
      ]
    },
    {
      "cell_type": "code",
      "source": [
        "for i in range(len(adversarial_images2)):\n",
        "  adv = adversarial_images2[i]\n",
        "  y_pred = model(adv.unsqueeze(0))\n",
        "  _, predicted = torch.max(y_pred, 1)\n",
        "  print(classes_train[predicted])"
      ],
      "metadata": {
        "colab": {
          "base_uri": "https://localhost:8080/"
        },
        "id": "lCvXcRHQWWhP",
        "outputId": "1f41694f-2f56-4b89-f084-02ef83e2694d"
      },
      "execution_count": null,
      "outputs": [
        {
          "output_type": "stream",
          "name": "stdout",
          "text": [
            "692: 'packet',\n",
            "438: 'beaker',\n",
            "968: 'cup',\n"
          ]
        }
      ]
    },
    {
      "cell_type": "markdown",
      "source": [
        "# 🦜 NN-Based Language Model\n",
        "In this excercise we will run a basic RNN based language model and answer some questions about the code. It is advised to use GPU to run the code. First run the code then answer the questions below that require modifying it."
      ],
      "metadata": {
        "id": "eNtvb_zpN4H7"
      }
    },
    {
      "cell_type": "code",
      "metadata": {
        "id": "CTOJyYyujICY",
        "colab": {
          "base_uri": "https://localhost:8080/"
        },
        "outputId": "77ec8bb6-bee2-4132-c590-62cbe78305a0"
      },
      "source": [
        "#@title 🧮 Imports & Hyperparameter Setup\n",
        "#@markdown Feel free to experiment with the following hyperparameters at your\n",
        "#@markdown leasure. For the purpose of this assignment, leave the default values\n",
        "#@markdown and run the code with these suggested values.\n",
        "# Some part of the code was referenced from below.\n",
        "# https://github.com/pytorch/examples/tree/master/word_language_model\n",
        "# https://github.com/yunjey/pytorch-tutorial/tree/master/tutorials/02-intermediate/language_model\n",
        "\n",
        "! git clone https://github.com/yunjey/pytorch-tutorial/\n",
        "%cd pytorch-tutorial/tutorials/02-intermediate/language_model/\n",
        "\n",
        "import torch\n",
        "import torch.nn as nn\n",
        "import numpy as np\n",
        "from torch.nn.utils import clip_grad_norm_\n",
        "\n",
        "# Device configuration\n",
        "device = torch.device('cuda' if torch.cuda.is_available() else 'cpu')\n",
        "\n",
        "# Hyper-parameters\n",
        "embed_size = 128 #@param {type:\"number\"}\n",
        "hidden_size = 1024 #@param {type:\"number\"}\n",
        "num_layers = 1 #@param {type:\"number\"}\n",
        "num_epochs = 5 #@param {type:\"slider\", min:1, max:10, step:1}\n",
        "batch_size = 20 #@param {type:\"number\"}\n",
        "seq_length = 30 #@param {type:\"number\"}\n",
        "learning_rate = 0.002 #@param {type:\"number\"}\n",
        "#@markdown Number of words to be sampled ⬇️\n",
        "num_samples = 50 #@param {type:\"number\"}\n",
        "\n",
        "print(f\"--> Device selected: {device}\")\n"
      ],
      "execution_count": null,
      "outputs": [
        {
          "output_type": "stream",
          "name": "stdout",
          "text": [
            "Cloning into 'pytorch-tutorial'...\n",
            "remote: Enumerating objects: 917, done.\u001b[K\n",
            "remote: Total 917 (delta 0), reused 0 (delta 0), pack-reused 917\u001b[K\n",
            "Receiving objects: 100% (917/917), 12.80 MiB | 28.50 MiB/s, done.\n",
            "Resolving deltas: 100% (491/491), done.\n",
            "/content/pytorch-tutorial/tutorials/02-intermediate/language_model\n",
            "--> Device selected: cuda\n"
          ]
        }
      ]
    },
    {
      "cell_type": "code",
      "metadata": {
        "id": "tzj73P_QeBEA",
        "colab": {
          "base_uri": "https://localhost:8080/"
        },
        "outputId": "b095ed71-c399-419f-b740-4ab5deb8b94a"
      },
      "source": [
        "from data_utils import Dictionary, Corpus\n",
        "\n",
        "# Load \"Penn Treebank\" dataset\n",
        "corpus = Corpus()\n",
        "ids = corpus.get_data('data/train.txt', batch_size)\n",
        "vocab_size = len(corpus.dictionary)\n",
        "num_batches = ids.size(1) // seq_length\n",
        "\n",
        "print(f\"Vcoabulary size: {vocab_size}\")\n",
        "print(f\"Number of batches: {num_batches}\")"
      ],
      "execution_count": null,
      "outputs": [
        {
          "output_type": "stream",
          "name": "stdout",
          "text": [
            "Vcoabulary size: 10000\n",
            "Number of batches: 1549\n"
          ]
        }
      ]
    },
    {
      "cell_type": "markdown",
      "metadata": {
        "id": "MKzalmp8dndK"
      },
      "source": [
        "## 🤖 Model Definition\n",
        "As you can see below, this model stacks `num_layers` many [LSTM](https://pytorch.org/docs/stable/generated/torch.nn.LSTM.html) units vertically to construct our basic RNN-based language model. The diagram below shows a pictorial representation of the model in its simplest form (i.e `num_layers`=1).\n",
        "![Pictorial Representation of The Model](https://upload.wikimedia.org/wikipedia/commons/6/63/Long_Short-Term_Memory.svg)"
      ]
    },
    {
      "cell_type": "code",
      "metadata": {
        "id": "QZTjM5fQri35"
      },
      "source": [
        "# RNN based language model\n",
        "class RNNLM(nn.Module):\n",
        "    def __init__(self, vocab_size, embed_size, hidden_size, num_layers):\n",
        "        super(RNNLM, self).__init__()\n",
        "        self.embed = nn.Embedding(vocab_size, embed_size)\n",
        "        self.lstm = nn.LSTM(embed_size, hidden_size, num_layers, batch_first=True)\n",
        "        self.linear = nn.Linear(hidden_size, vocab_size)\n",
        "\n",
        "    def forward(self, x, h):\n",
        "        # Embed word ids to vectors\n",
        "        x = self.embed(x)\n",
        "\n",
        "        # Forward propagate LSTM\n",
        "        out, (h, c) = self.lstm(x, h)\n",
        "\n",
        "        # Reshape output to (batch_size*sequence_length, hidden_size)\n",
        "        out = out.reshape(out.size(0)*out.size(1), out.size(2))\n",
        "\n",
        "        # Decode hidden states of all time steps\n",
        "        out = self.linear(out)\n",
        "        return out, (h, c)"
      ],
      "execution_count": null,
      "outputs": []
    },
    {
      "cell_type": "markdown",
      "metadata": {
        "id": "S_fjTZ6wdpae"
      },
      "source": [
        "## 🏓 Training\n",
        "In this section we will train our model, this should take a couple of minutes! Be patient 😊"
      ]
    },
    {
      "cell_type": "code",
      "metadata": {
        "id": "DsaIIUUHjQ5n",
        "colab": {
          "base_uri": "https://localhost:8080/"
        },
        "outputId": "ffbbcd58-3a19-4e20-8fa5-d048e796697b"
      },
      "source": [
        "model = RNNLM(vocab_size, embed_size, hidden_size, num_layers).to(device)\n",
        "\n",
        "# Loss and optimizer\n",
        "criterion = nn.CrossEntropyLoss()\n",
        "optimizer = torch.optim.Adam(model.parameters(), lr=learning_rate)\n",
        "\n",
        "# Truncated backpropagation\n",
        "def detach(states):\n",
        "    return [state.detach() for state in states]\n",
        "\n",
        "\n",
        "# Train the model\n",
        "for epoch in range(num_epochs):\n",
        "    # Set initial hidden and cell states\n",
        "    states = (torch.zeros(num_layers, batch_size, hidden_size).to(device),\n",
        "              torch.zeros(num_layers, batch_size, hidden_size).to(device))\n",
        "\n",
        "    for i in range(0, ids.size(1) - seq_length, seq_length):\n",
        "        # Get mini-batch inputs and targets\n",
        "        inputs = ids[:, i:i+seq_length].to(device)\n",
        "        targets = ids[:, (i+1):(i+1)+seq_length].to(device)\n",
        "\n",
        "        # Forward pass\n",
        "        states = detach(states)\n",
        "        outputs, states = model(inputs, states)\n",
        "        loss = criterion(outputs, targets.reshape(-1))\n",
        "\n",
        "        # Backward and optimize\n",
        "        optimizer.zero_grad()\n",
        "        loss.backward()\n",
        "        clip_grad_norm_(model.parameters(), 0.5)\n",
        "        optimizer.step()\n",
        "\n",
        "        step = (i+1) // seq_length\n",
        "        if step % 100 == 0:\n",
        "            print ('Epoch [{}/{}], Step[{}/{}], Loss: {:.4f}, Perplexity: {:5.2f}'\n",
        "                   .format(epoch+1, num_epochs, step, num_batches, loss.item(), np.exp(loss.item())))"
      ],
      "execution_count": null,
      "outputs": [
        {
          "output_type": "stream",
          "name": "stdout",
          "text": [
            "Epoch [1/5], Step[0/1549], Loss: 9.2117, Perplexity: 10013.88\n",
            "Epoch [1/5], Step[100/1549], Loss: 6.0125, Perplexity: 408.49\n",
            "Epoch [1/5], Step[200/1549], Loss: 5.9158, Perplexity: 370.86\n",
            "Epoch [1/5], Step[300/1549], Loss: 5.7582, Perplexity: 316.77\n",
            "Epoch [1/5], Step[400/1549], Loss: 5.7180, Perplexity: 304.29\n",
            "Epoch [1/5], Step[500/1549], Loss: 5.0992, Perplexity: 163.90\n",
            "Epoch [1/5], Step[600/1549], Loss: 5.1736, Perplexity: 176.55\n",
            "Epoch [1/5], Step[700/1549], Loss: 5.3578, Perplexity: 212.26\n",
            "Epoch [1/5], Step[800/1549], Loss: 5.1680, Perplexity: 175.56\n",
            "Epoch [1/5], Step[900/1549], Loss: 5.0558, Perplexity: 156.92\n",
            "Epoch [1/5], Step[1000/1549], Loss: 5.1087, Perplexity: 165.46\n",
            "Epoch [1/5], Step[1100/1549], Loss: 5.3379, Perplexity: 208.07\n",
            "Epoch [1/5], Step[1200/1549], Loss: 5.1878, Perplexity: 179.07\n",
            "Epoch [1/5], Step[1300/1549], Loss: 5.1308, Perplexity: 169.15\n",
            "Epoch [1/5], Step[1400/1549], Loss: 4.8015, Perplexity: 121.70\n",
            "Epoch [1/5], Step[1500/1549], Loss: 5.1591, Perplexity: 174.01\n",
            "Epoch [2/5], Step[0/1549], Loss: 5.4152, Perplexity: 224.80\n",
            "Epoch [2/5], Step[100/1549], Loss: 4.5834, Perplexity: 97.85\n",
            "Epoch [2/5], Step[200/1549], Loss: 4.7207, Perplexity: 112.25\n",
            "Epoch [2/5], Step[300/1549], Loss: 4.6632, Perplexity: 105.97\n",
            "Epoch [2/5], Step[400/1549], Loss: 4.5672, Perplexity: 96.28\n",
            "Epoch [2/5], Step[500/1549], Loss: 4.1183, Perplexity: 61.46\n",
            "Epoch [2/5], Step[600/1549], Loss: 4.4484, Perplexity: 85.49\n",
            "Epoch [2/5], Step[700/1549], Loss: 4.4369, Perplexity: 84.51\n",
            "Epoch [2/5], Step[800/1549], Loss: 4.4244, Perplexity: 83.47\n",
            "Epoch [2/5], Step[900/1549], Loss: 4.1877, Perplexity: 65.87\n",
            "Epoch [2/5], Step[1000/1549], Loss: 4.2798, Perplexity: 72.23\n",
            "Epoch [2/5], Step[1100/1549], Loss: 4.5333, Perplexity: 93.07\n",
            "Epoch [2/5], Step[1200/1549], Loss: 4.4932, Perplexity: 89.41\n",
            "Epoch [2/5], Step[1300/1549], Loss: 4.2387, Perplexity: 69.32\n",
            "Epoch [2/5], Step[1400/1549], Loss: 3.9367, Perplexity: 51.25\n",
            "Epoch [2/5], Step[1500/1549], Loss: 4.3542, Perplexity: 77.81\n",
            "Epoch [3/5], Step[0/1549], Loss: 4.4348, Perplexity: 84.34\n",
            "Epoch [3/5], Step[100/1549], Loss: 3.8586, Perplexity: 47.40\n",
            "Epoch [3/5], Step[200/1549], Loss: 4.0252, Perplexity: 55.99\n",
            "Epoch [3/5], Step[300/1549], Loss: 3.9357, Perplexity: 51.20\n",
            "Epoch [3/5], Step[400/1549], Loss: 3.8826, Perplexity: 48.55\n",
            "Epoch [3/5], Step[500/1549], Loss: 3.3965, Perplexity: 29.86\n",
            "Epoch [3/5], Step[600/1549], Loss: 3.8487, Perplexity: 46.93\n",
            "Epoch [3/5], Step[700/1549], Loss: 3.7719, Perplexity: 43.46\n",
            "Epoch [3/5], Step[800/1549], Loss: 3.8285, Perplexity: 45.99\n",
            "Epoch [3/5], Step[900/1549], Loss: 3.5295, Perplexity: 34.11\n",
            "Epoch [3/5], Step[1000/1549], Loss: 3.5698, Perplexity: 35.51\n",
            "Epoch [3/5], Step[1100/1549], Loss: 3.8093, Perplexity: 45.12\n",
            "Epoch [3/5], Step[1200/1549], Loss: 3.8038, Perplexity: 44.87\n",
            "Epoch [3/5], Step[1300/1549], Loss: 3.5352, Perplexity: 34.30\n",
            "Epoch [3/5], Step[1400/1549], Loss: 3.2607, Perplexity: 26.07\n",
            "Epoch [3/5], Step[1500/1549], Loss: 3.6735, Perplexity: 39.39\n",
            "Epoch [4/5], Step[0/1549], Loss: 3.5328, Perplexity: 34.22\n",
            "Epoch [4/5], Step[100/1549], Loss: 3.3634, Perplexity: 28.89\n",
            "Epoch [4/5], Step[200/1549], Loss: 3.4387, Perplexity: 31.15\n",
            "Epoch [4/5], Step[300/1549], Loss: 3.3818, Perplexity: 29.42\n",
            "Epoch [4/5], Step[400/1549], Loss: 3.3689, Perplexity: 29.05\n",
            "Epoch [4/5], Step[500/1549], Loss: 2.9243, Perplexity: 18.62\n",
            "Epoch [4/5], Step[600/1549], Loss: 3.3550, Perplexity: 28.64\n",
            "Epoch [4/5], Step[700/1549], Loss: 3.2629, Perplexity: 26.13\n",
            "Epoch [4/5], Step[800/1549], Loss: 3.3542, Perplexity: 28.62\n",
            "Epoch [4/5], Step[900/1549], Loss: 3.1022, Perplexity: 22.25\n",
            "Epoch [4/5], Step[1000/1549], Loss: 3.1199, Perplexity: 22.64\n",
            "Epoch [4/5], Step[1100/1549], Loss: 3.2957, Perplexity: 27.00\n",
            "Epoch [4/5], Step[1200/1549], Loss: 3.2871, Perplexity: 26.77\n",
            "Epoch [4/5], Step[1300/1549], Loss: 3.0366, Perplexity: 20.83\n",
            "Epoch [4/5], Step[1400/1549], Loss: 2.7496, Perplexity: 15.64\n",
            "Epoch [4/5], Step[1500/1549], Loss: 3.1669, Perplexity: 23.73\n",
            "Epoch [5/5], Step[0/1549], Loss: 3.0929, Perplexity: 22.04\n",
            "Epoch [5/5], Step[100/1549], Loss: 2.9896, Perplexity: 19.88\n",
            "Epoch [5/5], Step[200/1549], Loss: 3.1637, Perplexity: 23.66\n",
            "Epoch [5/5], Step[300/1549], Loss: 3.0449, Perplexity: 21.01\n",
            "Epoch [5/5], Step[400/1549], Loss: 3.0281, Perplexity: 20.66\n",
            "Epoch [5/5], Step[500/1549], Loss: 2.6122, Perplexity: 13.63\n",
            "Epoch [5/5], Step[600/1549], Loss: 3.0757, Perplexity: 21.67\n",
            "Epoch [5/5], Step[700/1549], Loss: 2.9590, Perplexity: 19.28\n",
            "Epoch [5/5], Step[800/1549], Loss: 3.0435, Perplexity: 20.98\n",
            "Epoch [5/5], Step[900/1549], Loss: 2.7688, Perplexity: 15.94\n",
            "Epoch [5/5], Step[1000/1549], Loss: 2.7790, Perplexity: 16.10\n",
            "Epoch [5/5], Step[1100/1549], Loss: 3.0058, Perplexity: 20.20\n",
            "Epoch [5/5], Step[1200/1549], Loss: 2.9603, Perplexity: 19.30\n",
            "Epoch [5/5], Step[1300/1549], Loss: 2.7451, Perplexity: 15.57\n",
            "Epoch [5/5], Step[1400/1549], Loss: 2.4191, Perplexity: 11.24\n",
            "Epoch [5/5], Step[1500/1549], Loss: 2.8881, Perplexity: 17.96\n"
          ]
        }
      ]
    },
    {
      "cell_type": "markdown",
      "source": [
        "# 🤔 Questions"
      ],
      "metadata": {
        "id": "-Vy9OJMEXRJs"
      }
    },
    {
      "cell_type": "markdown",
      "source": [
        "## 1️⃣ Q2.1 Detaching or not? (10 points)\n",
        "The above code implements a version of truncated backpropagation through time. The implementation only requires the `detach()` function (lines 7-9 of the cell) defined above the loop and used once inside the training loop.\n",
        "* Explain the implementation (compared to not using truncated backprop through time).\n",
        "* What does the `detach()` call here achieve? Draw a computational graph. You may choose to answer this question outside the notebook.\n",
        "* When using using line 7-9 we will typically observe less GPU memory being used during training, explain why in your answer.\n"
      ],
      "metadata": {
        "id": "jhis12qSX-ce"
      }
    },
    {
      "cell_type": "markdown",
      "source": [
        "## 🔮 Model Prediction\n",
        "Below we will use our model to generate text sequence!"
      ],
      "metadata": {
        "id": "lbyKZiTgahSv"
      }
    },
    {
      "cell_type": "code",
      "metadata": {
        "id": "DxQ13QcIjPE9",
        "colab": {
          "base_uri": "https://localhost:8080/"
        },
        "outputId": "951728cd-2a3d-4327-a262-9fdd8563e263"
      },
      "source": [
        "# Sample from the model\n",
        "with torch.no_grad():\n",
        "    with open('sample.txt', 'w') as f:\n",
        "        # Set intial hidden ane cell states\n",
        "        state = (torch.zeros(num_layers, 1, hidden_size).to(device),\n",
        "                 torch.zeros(num_layers, 1, hidden_size).to(device))\n",
        "\n",
        "        # Select one word id randomly\n",
        "        prob = torch.ones(vocab_size)\n",
        "        input = torch.multinomial(prob, num_samples=1).unsqueeze(1).to(device)\n",
        "\n",
        "        for i in range(num_samples):\n",
        "            # Forward propagate RNN\n",
        "            output, state = model(input, state)\n",
        "\n",
        "            # Sample a word id\n",
        "            prob = output.exp()\n",
        "            word_id = torch.multinomial(prob, num_samples=1).item()\n",
        "\n",
        "            # Fill input with sampled word id for the next time step\n",
        "            input.fill_(word_id)\n",
        "\n",
        "            # File write\n",
        "            word = corpus.dictionary.idx2word[word_id]\n",
        "            word = '\\n' if word == '<eos>' else word + ' '\n",
        "            f.write(word)\n",
        "\n",
        "            if (i+1) % 100 == 0:\n",
        "                print('Sampled [{}/{}] words and save to {}'.format(i+1, num_samples, 'sample.txt'))\n",
        "! cat sample.txt"
      ],
      "execution_count": null,
      "outputs": [
        {
          "output_type": "stream",
          "name": "stdout",
          "text": [
            "retailers on medical cooperatives \n",
            "shortly even the near santa fe and johnson is supposed to be directly drawn for some time \n",
            "on wall street securities generally posted some light gains much competition \n",
            "ford might are favor to boost rates from before taking further <unk> with fears of "
          ]
        }
      ]
    },
    {
      "cell_type": "markdown",
      "source": [
        "## 2️⃣ Q2.2 Sampling strategy (7 points)\n",
        "Consider the sampling procedure above. The current code samples a word:\n",
        "```python\n",
        "word_id = torch.multinomial(prob, num_samples=1).item()\n",
        "```\n",
        "in order to feed the model at each output step and feeding those to the next timestep. Copy below the above cell and modify this sampling startegy to use a greedy sampling which selects the highest probability word at each time step to feed as the next input."
      ],
      "metadata": {
        "id": "xXsUDt0tbAHM"
      }
    },
    {
      "cell_type": "code",
      "metadata": {
        "id": "2BeO7LSWiyIZ",
        "colab": {
          "base_uri": "https://localhost:8080/"
        },
        "outputId": "0729c0a4-d1de-4261-e3dc-24803b76ea0c"
      },
      "source": [
        "# Sample greedily from the model\n",
        "import torch.nn.functional as F\n",
        "\n",
        "with torch.no_grad():\n",
        "    with open('sample.txt', 'w') as f:\n",
        "        # Set intial hidden ane cell states\n",
        "        state = (torch.zeros(num_layers, 1, hidden_size).to(device),\n",
        "                 torch.zeros(num_layers, 1, hidden_size).to(device))\n",
        "\n",
        "        # Select one word id randomly\n",
        "        prob = torch.ones(vocab_size)\n",
        "        input = torch.multinomial(prob, num_samples=1).unsqueeze(1).to(device)\n",
        "\n",
        "        for i in range(num_samples):\n",
        "            # Forward propagate RNN\n",
        "            output, state = model(input, state)\n",
        "\n",
        "            # Sample a word id\n",
        "            prob = output.exp()\n",
        "            word_high = (F.softmax(prob,dim=1)).argmax().item()\n",
        "            input.fill_(word_high)\n",
        "\n",
        "            # File write\n",
        "            word = corpus.dictionary.idx2word[word_high]\n",
        "            word = '\\n' if word == '<eos>' else word + ' '\n",
        "            f.write(word)\n",
        "\n",
        "            if (i+1) % 100 == 0:\n",
        "                print('Sampled [{}/{}] words and save to {}'.format(i+1, num_samples, 'sample.txt'))\n",
        "! cat sample.txt"
      ],
      "execution_count": null,
      "outputs": [
        {
          "output_type": "stream",
          "name": "stdout",
          "text": [
            "for the company \n",
            "mr. roman will retire the team 's bloated <unk> \n",
            "he said he would retire hearings with his own N years \n",
            "he said he would n't elaborate \n",
            "mr. roman 's departure may be a good prospect for the company \n",
            "mr. roman appears <unk> "
          ]
        }
      ]
    },
    {
      "cell_type": "markdown",
      "source": [
        "## 3️⃣ Q2.3 Embedding Distance (8 points)\n",
        "Our model has learned a specific set of word embeddings.\n",
        "* Write a function that takes in 2 words and prints the cosine distance between their embeddings using the word embeddings from the above models.\n",
        "* Use it to print the cosine distance of the word \"army\" and the word \"taxpayer\".\n",
        "\n",
        "*Refer to the sampling code for how to output the words corresponding to each index. To get the index you can use the function `corpus.dictionary.word2idx.`*\n"
      ],
      "metadata": {
        "id": "o8YV7laBe9er"
      }
    },
    {
      "cell_type": "code",
      "metadata": {
        "id": "e6w3JSY3d_6c",
        "colab": {
          "base_uri": "https://localhost:8080/"
        },
        "outputId": "3e441ce7-9a08-46d6-95d1-0e923a25b07a"
      },
      "source": [
        "# Embedding distance\n",
        "\n",
        "def cosine_distance(word1, word2, model):\n",
        "  idx1 = corpus.dictionary.word2idx[word1]\n",
        "  idx2 = corpus.dictionary.word2idx[word2]\n",
        "  emb1,_ = model(torch.tensor(idx1).unsqueeze(0).unsqueeze(0).to(device),state)\n",
        "  emb2,_ = model(torch.tensor(idx2).unsqueeze(0).unsqueeze(0).to(device),state)\n",
        "  cos_sim = F.cosine_similarity(emb1, emb2, dim=1)\n",
        "  return cos_sim.item()\n",
        "\n",
        "cosine_distance('army', 'taxpayer', model)\n"
      ],
      "execution_count": null,
      "outputs": [
        {
          "output_type": "execute_result",
          "data": {
            "text/plain": [
              "0.9493026733398438"
            ]
          },
          "metadata": {},
          "execution_count": 117
        }
      ]
    },
    {
      "cell_type": "markdown",
      "source": [
        "## 4️⃣ Q2.4 Teacher Forcing (Extra Credit 2 points)\n",
        "What is teacher forcing?\n",
        "> Teacher forcing works by using the actual or expected output from the training dataset at the current time step $y(t)$ as input in the next time step $X(t+1)$, rather than the output generated by the network.\n",
        "\n",
        "In the `🏓 Training` code this is achieved, implicitly, when we pass the entire input sequence (`inputs = ids[:, i:i+seq_length].to(device)`) to the model at once.\n",
        "\n",
        "Copy below the `🏓 Training` code and modify it to disable teacher forcing training. Compare the performance of this model, to original model, what can you conclude? (compare perplexity and convergence rate)"
      ],
      "metadata": {
        "id": "O44EBrsQdA4n"
      }
    },
    {
      "cell_type": "code",
      "source": [
        "# Training code with Teacher Forcing"
      ],
      "metadata": {
        "id": "qfgf5pJGfL-D"
      },
      "execution_count": null,
      "outputs": []
    },
    {
      "cell_type": "markdown",
      "source": [
        "## 5️⃣ Q2.5 Distance Comparison (+1 point)\n",
        "Repeat the work you did for `3️⃣ Q2.3 Embedding Distance` for the model in `4️⃣ Q2.4 Teacher Forcing` and compare the distances produced by these two models (i.e. with and without the teacher forcing), what can you conclude?"
      ],
      "metadata": {
        "id": "xH2TG4v3PBOu"
      }
    },
    {
      "cell_type": "code",
      "source": [],
      "metadata": {
        "id": "EABSoOAGPAaS"
      },
      "execution_count": null,
      "outputs": []
    },
    {
      "cell_type": "markdown",
      "source": [
        "### Question 3 part (d)"
      ],
      "metadata": {
        "id": "LRQquzIsWcPk"
      }
    },
    {
      "cell_type": "code",
      "source": [
        "class PositionWiseFeedForward(nn.Module):\n",
        "    def __init__(self, input_dim, hidden_dim):\n",
        "        super(PositionWiseFeedForward, self).__init__()\n",
        "        self.linear1 = nn.Linear(input_dim, hidden_dim)\n",
        "        self.relu = nn.ReLU()\n",
        "        self.linear2 = nn.Linear(hidden_dim, input_dim)\n",
        "\n",
        "    def forward(self, Z):\n",
        "        # Z has shape (B, T, Din)\n",
        "        batch_size, seq_len, input_dim = Z.size()\n",
        "        Z = Z.view(-1, input_dim)  # reshape to (B*T, Din)\n",
        "        H = self.relu(self.linear1(Z))  # apply linear1 and relu\n",
        "        out = self.linear2(H)  # apply linear2\n",
        "        out = out.view(batch_size, seq_len, input_dim)  # reshape back to (B, T, Din)\n",
        "        return out\n",
        "\n",
        "class PositionWiseFeedForward(nn.Module):\n",
        "    def __init__(self, input_dim, hidden_dim):\n",
        "        super(PositionWiseFeedForward, self).__init__()\n",
        "        self.conv1d = nn.Conv1d(in_channels=input_dim, out_channels=hidden_dim,stride = 1, kernel_size=1)\n",
        "        self.relu = nn.ReLU()\n",
        "        self.conv1d_2 = nn.Conv1d(in_channels=hidden_dim, out_channels=input_dim,stride = 1, kernel_size=1)\n",
        "\n",
        "    def forward(self, Z):\n",
        "        # Z has shape (B, T, Din)\n",
        "        Z = Z.permute(0, 2, 1)  # permute to (B, Din, T)\n",
        "        H = self.relu(self.conv1d(Z))  # apply conv1d and relu\n",
        "        out = self.conv1d_2(H)  # apply conv1d_2\n",
        "        out = out.permute(0, 2, 1)  # permute back to (B, T, Din)\n",
        "        return out\n",
        "\n",
        "# Create a random tensor Z with size (2, 3, 4)\n",
        "Z = torch.randn(2, 3, 4)\n",
        "\n",
        "# Test using nn.Linear\n",
        "pwff_nn_linear = PositionWiseFeedForward(input_dim=4, hidden_dim=8)\n",
        "out_nn_linear = pwff_nn_linear(Z)\n",
        "assert out_nn_linear.size() == (2, 3, 4)\n",
        "\n",
        "# Test using nn.Conv1d\n",
        "pwff_conv1d = PositionWiseFeedForward(input_dim=4, hidden_dim=8)\n",
        "out_conv1d = pwff_conv1d(Z)\n",
        "assert out_conv1d.size() == (2, 3, 4)\n",
        "print(\"Validation passed!\")\n"
      ],
      "metadata": {
        "colab": {
          "base_uri": "https://localhost:8080/"
        },
        "id": "57YSSAcLWdTF",
        "outputId": "e5b7ce2e-acd5-4351-b686-b756a10bf009"
      },
      "execution_count": null,
      "outputs": [
        {
          "output_type": "stream",
          "name": "stdout",
          "text": [
            "Validation passed!\n"
          ]
        }
      ]
    }
  ]
}